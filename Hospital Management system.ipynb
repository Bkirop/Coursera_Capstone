{
  "nbformat": 4,
  "nbformat_minor": 0,
  "metadata": {
    "colab": {
      "provenance": [],
      "authorship_tag": "ABX9TyP9NyPfh19qlf5mRwFg/+xY",
      "include_colab_link": true
    },
    "kernelspec": {
      "name": "python3",
      "display_name": "Python 3"
    },
    "language_info": {
      "name": "python"
    }
  },
  "cells": [
    {
      "cell_type": "markdown",
      "metadata": {
        "id": "view-in-github",
        "colab_type": "text"
      },
      "source": [
        "<a href=\"https://colab.research.google.com/github/Bkirop/Coursera_Capstone/blob/master/Hospital%20Management%20system.ipynb\" target=\"_parent\"><img src=\"https://colab.research.google.com/assets/colab-badge.svg\" alt=\"Open In Colab\"/></a>"
      ]
    },
    {
      "cell_type": "code",
      "execution_count": 3,
      "metadata": {
        "id": "K36mfcGOEQoQ"
      },
      "outputs": [],
      "source": []
    },
    {
      "cell_type": "code",
      "source": [
        "#Lists\n",
        "list_a=[1,2,3,4]\n",
        "list_b=[1, \"Today\", True, 3.0]\n",
        "print(list_a)\n",
        "print(list_a[2])\n",
        "\n",
        "# Problem: Create a functions that shows sum of two numbers\n",
        "\n",
        "def add_numbers(a, b):\n",
        "  return (a + b)\n",
        "\n",
        "a = 10\n",
        "b = 5\n",
        "print(add_numbers(a, b))"
      ],
      "metadata": {
        "colab": {
          "base_uri": "https://localhost:8080/"
        },
        "id": "OyB_1POqFDhS",
        "outputId": "aeeb43f2-52ef-40ff-ea5c-d6ca7a47337a"
      },
      "execution_count": 5,
      "outputs": [
        {
          "output_type": "stream",
          "name": "stdout",
          "text": [
            "[1, 2, 3, 4]\n",
            "3\n",
            "15\n"
          ]
        }
      ]
    },
    {
      "cell_type": "markdown",
      "metadata": {
        "id": "babee397"
      },
      "source": [
        "# Task\n",
        "Create a hospital management system in Python that manages drugs (stock, in-store, prescribed) and patients (in wards, assigned to beds)."
      ]
    },
    {
      "cell_type": "markdown",
      "metadata": {
        "id": "3ae9f524"
      },
      "source": [
        "## Understand the scope\n",
        "\n",
        "### Subtask:\n",
        "Clarify the key features and functionalities required for drug and patient management.\n"
      ]
    },
    {
      "cell_type": "markdown",
      "metadata": {
        "id": "c87ef1c6"
      },
      "source": [
        "**Reasoning**:\n",
        "Based on the task description and the overall plan, I need to list the key features and functionalities for drug and patient management. I will list them in the code block using markdown format to make it clear.\n",
        "\n"
      ]
    },
    {
      "cell_type": "code",
      "metadata": {
        "colab": {
          "base_uri": "https://localhost:8080/",
          "height": 139
        },
        "id": "6ed3ca3d",
        "outputId": "f919e7bc-64d3-43b3-d0fa-4913c36e9fe4"
      },
      "source": [
        "\"\"\"\n",
        "Key Features and Functionalities for Hospital Management System:\n",
        "\n",
        "Drug Management:\n",
        "- Track drug stock levels (total quantity available).\n",
        "- Manage in-store drug quantities (drugs physically present in the pharmacy/storage).\n",
        "- Handle prescribed drugs (associate drugs with patients and track dispensing).\n",
        "- Add new drugs to the system.\n",
        "- Update drug information (e.g., stock, price).\n",
        "- Remove drugs from the system (e.g., expired or discontinued).\n",
        "\n",
        "Patient Management:\n",
        "- Admit new patients to the hospital.\n",
        "- Assign patients to specific wards.\n",
        "- Assign patients to available beds within wards.\n",
        "- Track patient location (current ward and bed).\n",
        "- Discharge patients from the hospital.\n",
        "- Update patient information.\n",
        "\n",
        "Interaction between Drug and Patient Management:\n",
        "- Link prescribed drugs to specific patients.\n",
        "- Track which drugs have been administered to which patient.\n",
        "- Manage drug dispensing based on prescriptions for patients.\n",
        "\"\"\""
      ],
      "execution_count": 6,
      "outputs": [
        {
          "output_type": "execute_result",
          "data": {
            "text/plain": [
              "'\\nKey Features and Functionalities for Hospital Management System:\\n\\nDrug Management:\\n- Track drug stock levels (total quantity available).\\n- Manage in-store drug quantities (drugs physically present in the pharmacy/storage).\\n- Handle prescribed drugs (associate drugs with patients and track dispensing).\\n- Add new drugs to the system.\\n- Update drug information (e.g., stock, price).\\n- Remove drugs from the system (e.g., expired or discontinued).\\n\\nPatient Management:\\n- Admit new patients to the hospital.\\n- Assign patients to specific wards.\\n- Assign patients to available beds within wards.\\n- Track patient location (current ward and bed).\\n- Discharge patients from the hospital.\\n- Update patient information.\\n\\nInteraction between Drug and Patient Management:\\n- Link prescribed drugs to specific patients.\\n- Track which drugs have been administered to which patient.\\n- Manage drug dispensing based on prescriptions for patients.\\n'"
            ],
            "application/vnd.google.colaboratory.intrinsic+json": {
              "type": "string"
            }
          },
          "metadata": {},
          "execution_count": 6
        }
      ]
    },
    {
      "cell_type": "markdown",
      "metadata": {
        "id": "b4ef9441"
      },
      "source": [
        "## Data modeling\n",
        "\n",
        "### Subtask:\n",
        "Design the data structures (e.g., tables, classes) to represent drugs, stock, prescriptions, patients, wards, and beds.\n"
      ]
    },
    {
      "cell_type": "markdown",
      "metadata": {
        "id": "02731be5"
      },
      "source": [
        "**Reasoning**:\n",
        "Define the Python classes for the hospital management system entities as outlined in the instructions, including their attributes, relationships, and initialization methods.\n",
        "\n"
      ]
    },
    {
      "cell_type": "code",
      "metadata": {
        "id": "9f0cafe8"
      },
      "source": [
        "class Drug:\n",
        "    def __init__(self, drug_id, name, total_stock, in_store_stock):\n",
        "        self.drug_id = drug_id\n",
        "        self.name = name\n",
        "        self.total_stock = total_stock\n",
        "        self.in_store_stock = in_store_stock\n",
        "\n",
        "class Stock:\n",
        "    def __init__(self, drug, quantity):\n",
        "        self.drug = drug  # Reference to a Drug instance\n",
        "        self.quantity = quantity\n",
        "\n",
        "class Prescription:\n",
        "    def __init__(self, prescription_id, patient, drugs):\n",
        "        self.prescription_id = prescription_id\n",
        "        self.patient = patient  # Reference to a Patient instance\n",
        "        self.drugs = drugs  # List of Drug instances\n",
        "\n",
        "class Patient:\n",
        "    def __init__(self, patient_id, name, assigned_ward=None, assigned_bed=None):\n",
        "        self.patient_id = patient_id\n",
        "        self.name = name\n",
        "        self.assigned_ward = assigned_ward  # Reference to a Ward instance\n",
        "        self.assigned_bed = assigned_bed  # Reference to a Bed instance\n",
        "        self.prescriptions = [] # List of Prescription instances\n",
        "\n",
        "class Ward:\n",
        "    def __init__(self, ward_id, name, capacity):\n",
        "        self.ward_id = ward_id\n",
        "        self.name = name\n",
        "        self.capacity = capacity\n",
        "        self.patients = [] # List of Patient instances\n",
        "        self.beds = [] # List of Bed instances\n",
        "\n",
        "class Bed:\n",
        "    def __init__(self, bed_id, ward, is_occupied=False):\n",
        "        self.bed_id = bed_id\n",
        "        self.ward = ward  # Reference to a Ward instance\n",
        "        self.is_occupied = is_occupied"
      ],
      "execution_count": 7,
      "outputs": []
    },
    {
      "cell_type": "markdown",
      "metadata": {
        "id": "f057f736"
      },
      "source": [
        "## Drug management implementation\n",
        "\n",
        "### Subtask:\n",
        "Write code to manage drug inventory (stock, in-store, prescribed), including functions for adding, removing, and updating drug information.\n"
      ]
    },
    {
      "cell_type": "markdown",
      "metadata": {
        "id": "a256733d"
      },
      "source": [
        "**Reasoning**:\n",
        "Implement a class to manage drug inventory, including functions for adding, updating, prescribing, dispensing, and removing drugs, based on the data models defined in the previous step.\n",
        "\n"
      ]
    },
    {
      "cell_type": "code",
      "metadata": {
        "colab": {
          "base_uri": "https://localhost:8080/"
        },
        "id": "11a89480",
        "outputId": "0c5b8ebe-9d35-440a-86cc-a3958e8165e5"
      },
      "source": [
        "class DrugInventory:\n",
        "    def __init__(self):\n",
        "        self.drugs = {}  # Dictionary to store drugs, keyed by drug_id\n",
        "\n",
        "    def add_drug(self, drug_id, name, total_stock, in_store_stock):\n",
        "        if drug_id in self.drugs:\n",
        "            print(f\"Drug with ID {drug_id} already exists.\")\n",
        "            return False\n",
        "        new_drug = Drug(drug_id, name, total_stock, in_store_stock)\n",
        "        self.drugs[drug_id] = new_drug\n",
        "        print(f\"Drug '{name}' added with ID {drug_id}.\")\n",
        "        return True\n",
        "\n",
        "    def update_drug_stock(self, drug_id, total_stock=None, in_store_stock=None):\n",
        "        if drug_id not in self.drugs:\n",
        "            print(f\"Drug with ID {drug_id} not found.\")\n",
        "            return False\n",
        "        drug = self.drugs[drug_id]\n",
        "        if total_stock is not None:\n",
        "            drug.total_stock = total_stock\n",
        "        if in_store_stock is not None:\n",
        "            drug.in_store_stock = in_store_stock\n",
        "        print(f\"Stock for drug '{drug.name}' updated.\")\n",
        "        return True\n",
        "\n",
        "    def prescribe_drug(self, patient, drug_id, quantity):\n",
        "        if drug_id not in self.drugs:\n",
        "            print(f\"Drug with ID {drug_id} not found in inventory.\")\n",
        "            return False\n",
        "        drug = self.drugs[drug_id]\n",
        "        if drug.in_store_stock < quantity:\n",
        "            print(f\"Not enough '{drug.name}' in store. Available: {drug.in_store_stock}, Requested: {quantity}\")\n",
        "            return False\n",
        "\n",
        "        # Assuming a simple prescription object for now, can be expanded later\n",
        "        prescription_item = {\"drug\": drug, \"quantity\": quantity, \"dispensed\": False}\n",
        "        patient.prescriptions.append(prescription_item)\n",
        "        print(f\"{quantity} units of '{drug.name}' prescribed to patient {patient.patient_id}.\")\n",
        "        return True\n",
        "\n",
        "    def dispense_drug(self, patient, drug_id, quantity_to_dispense):\n",
        "        if drug_id not in self.drugs:\n",
        "            print(f\"Drug with ID {drug_id} not found in inventory.\")\n",
        "            return False\n",
        "\n",
        "        drug = self.drugs[drug_id]\n",
        "        dispensed_count = 0\n",
        "        for prescription_item in patient.prescriptions:\n",
        "            if prescription_item[\"drug\"].drug_id == drug_id and not prescription_item[\"dispensed\"]:\n",
        "                dispensable_quantity = min(quantity_to_dispense - dispensed_count, prescription_item[\"quantity\"])\n",
        "                if drug.in_store_stock < dispensable_quantity:\n",
        "                    print(f\"Not enough '{drug.name}' in store to dispense fully. Available: {drug.in_store_stock}\")\n",
        "                    dispensable_quantity = drug.in_store_stock\n",
        "\n",
        "                drug.in_store_stock -= dispensable_quantity\n",
        "                prescription_item[\"quantity\"] -= dispensable_quantity # Reduce the quantity in the prescription\n",
        "                dispensed_count += dispensable_quantity\n",
        "\n",
        "                if prescription_item[\"quantity\"] == 0:\n",
        "                    prescription_item[\"dispensed\"] = True # Mark as fully dispensed\n",
        "\n",
        "                if dispensed_count == quantity_to_dispense:\n",
        "                    break # Stop dispensing once the requested quantity is reached\n",
        "\n",
        "        if dispensed_count > 0:\n",
        "            print(f\"{dispensed_count} units of '{drug.name}' dispensed to patient {patient.patient_id}.\")\n",
        "            return True\n",
        "        else:\n",
        "            print(f\"No undispensed prescription for drug ID {drug_id} found for patient {patient.patient_id} or insufficient stock.\")\n",
        "            return False\n",
        "\n",
        "\n",
        "    def remove_drug(self, drug_id):\n",
        "        if drug_id not in self.drugs:\n",
        "            print(f\"Drug with ID {drug_id} not found.\")\n",
        "            return False\n",
        "\n",
        "        # Basic check: Could add checks for prescribed or in-stock drugs later\n",
        "        del self.drugs[drug_id]\n",
        "        print(f\"Drug with ID {drug_id} removed.\")\n",
        "        return True\n",
        "\n",
        "# Example Usage (for testing the DrugInventory class)\n",
        "inventory = DrugInventory()\n",
        "inventory.add_drug(\"D001\", \"Aspirin\", 1000, 500)\n",
        "inventory.add_drug(\"D002\", \"Ibuprofen\", 500, 200)\n",
        "\n",
        "inventory.update_drug_stock(\"D001\", in_store_stock=450)\n",
        "\n",
        "# Create a dummy patient for testing prescription and dispensing\n",
        "dummy_patient = Patient(\"P001\", \"John Doe\")\n",
        "\n",
        "inventory.prescribe_drug(dummy_patient, \"D001\", 50)\n",
        "inventory.prescribe_drug(dummy_patient, \"D002\", 20)\n",
        "\n",
        "inventory.dispense_drug(dummy_patient, \"D001\", 30)\n",
        "inventory.dispense_drug(dummy_patient, \"D002\", 25) # Should dispense only 20\n",
        "\n",
        "inventory.remove_drug(\"D001\")\n",
        "inventory.remove_drug(\"D003\") # Should show not found"
      ],
      "execution_count": 8,
      "outputs": [
        {
          "output_type": "stream",
          "name": "stdout",
          "text": [
            "Drug 'Aspirin' added with ID D001.\n",
            "Drug 'Ibuprofen' added with ID D002.\n",
            "Stock for drug 'Aspirin' updated.\n",
            "50 units of 'Aspirin' prescribed to patient P001.\n",
            "20 units of 'Ibuprofen' prescribed to patient P001.\n",
            "30 units of 'Aspirin' dispensed to patient P001.\n",
            "20 units of 'Ibuprofen' dispensed to patient P001.\n",
            "Drug with ID D001 removed.\n",
            "Drug with ID D003 not found.\n"
          ]
        },
        {
          "output_type": "execute_result",
          "data": {
            "text/plain": [
              "False"
            ]
          },
          "metadata": {},
          "execution_count": 8
        }
      ]
    },
    {
      "cell_type": "markdown",
      "metadata": {
        "id": "2d334b8c"
      },
      "source": [
        "## Patient and ward management implementation\n",
        "\n",
        "### Subtask:\n",
        "Write code to manage patient information, ward allocation, and bed assignments.\n"
      ]
    },
    {
      "cell_type": "markdown",
      "metadata": {
        "id": "047116c5"
      },
      "source": [
        "**Reasoning**:\n",
        "Implement the Hospital class with methods for managing wards, beds, and patients as requested in the subtask instructions.\n",
        "\n"
      ]
    },
    {
      "cell_type": "code",
      "metadata": {
        "id": "ea2c09f9"
      },
      "source": [
        "class Hospital:\n",
        "    def __init__(self):\n",
        "        self.wards = {}  # Dictionary to store wards, keyed by ward_id\n",
        "        self.patients = {} # Dictionary to store patients, keyed by patient_id\n",
        "\n",
        "    def add_ward(self, ward_id, name, capacity):\n",
        "        if ward_id in self.wards:\n",
        "            print(f\"Ward with ID {ward_id} already exists.\")\n",
        "            return False\n",
        "        new_ward = Ward(ward_id, name, capacity)\n",
        "        self.wards[ward_id] = new_ward\n",
        "        # Create beds for the ward\n",
        "        for i in range(capacity):\n",
        "            bed_id = f\"{ward_id}-bed-{i+1}\"\n",
        "            new_bed = Bed(bed_id, new_ward)\n",
        "            new_ward.beds.append(new_bed)\n",
        "        print(f\"Ward '{name}' added with ID {ward_id} and {capacity} beds.\")\n",
        "        return True\n",
        "\n",
        "    def add_bed(self, ward_id, bed_id):\n",
        "        if ward_id not in self.wards:\n",
        "            print(f\"Ward with ID {ward_id} not found.\")\n",
        "            return False\n",
        "        ward = self.wards[ward_id]\n",
        "        for bed in ward.beds:\n",
        "            if bed.bed_id == bed_id:\n",
        "                print(f\"Bed with ID {bed_id} already exists in Ward {ward_id}.\")\n",
        "                return False\n",
        "        if len(ward.beds) >= ward.capacity:\n",
        "            print(f\"Ward {ward_id} is already at full capacity.\")\n",
        "            return False\n",
        "        new_bed = Bed(bed_id, ward)\n",
        "        ward.beds.append(new_bed)\n",
        "        print(f\"Bed '{bed_id}' added to Ward {ward_id}.\")\n",
        "        return True\n",
        "\n",
        "    def admit_patient(self, patient_id, name, ward_id):\n",
        "        if patient_id in self.patients:\n",
        "            print(f\"Patient with ID {patient_id} already exists.\")\n",
        "            return False\n",
        "        if ward_id not in self.wards:\n",
        "            print(f\"Ward with ID {ward_id} not found.\")\n",
        "            return False\n",
        "\n",
        "        ward = self.wards[ward_id]\n",
        "        available_bed = self.find_available_bed(ward_id)\n",
        "\n",
        "        if available_bed:\n",
        "            new_patient = Patient(patient_id, name, assigned_ward=ward, assigned_bed=available_bed)\n",
        "            self.patients[patient_id] = new_patient\n",
        "            ward.patients.append(new_patient)\n",
        "            available_bed.is_occupied = True\n",
        "            print(f\"Patient '{name}' admitted with ID {patient_id} to Ward '{ward.name}', Bed '{available_bed.bed_id}'.\")\n",
        "            return new_patient\n",
        "        else:\n",
        "            print(f\"No available beds in Ward {ward.name}.\")\n",
        "            return None\n",
        "\n",
        "    def discharge_patient(self, patient_id):\n",
        "        if patient_id not in self.patients:\n",
        "            print(f\"Patient with ID {patient_id} not found.\")\n",
        "            return False\n",
        "\n",
        "        patient = self.patients[patient_id]\n",
        "        if patient.assigned_ward and patient.assigned_bed:\n",
        "            patient.assigned_ward.patients.remove(patient)\n",
        "            patient.assigned_bed.is_occupied = False\n",
        "            print(f\"Patient '{patient.name}' discharged from Ward '{patient.assigned_ward.name}', Bed '{patient.assigned_bed.bed_id}'.\")\n",
        "            patient.assigned_ward = None\n",
        "            patient.assigned_bed = None\n",
        "        else:\n",
        "            print(f\"Patient '{patient.name}' was not assigned to a ward or bed.\")\n",
        "\n",
        "        del self.patients[patient_id]\n",
        "        print(f\"Patient with ID {patient_id} removed from the system.\")\n",
        "        return True\n",
        "\n",
        "    def find_patient_by_id(self, patient_id):\n",
        "        return self.patients.get(patient_id)\n",
        "\n",
        "    def find_available_bed(self, ward_id):\n",
        "        if ward_id not in self.wards:\n",
        "            print(f\"Ward with ID {ward_id} not found.\")\n",
        "            return None\n",
        "        ward = self.wards[ward_id]\n",
        "        for bed in ward.beds:\n",
        "            if not bed.is_occupied:\n",
        "                return bed\n",
        "        return None\n",
        "\n",
        "# Example Usage (for testing the Hospital class patient management)\n",
        "hospital = Hospital()\n",
        "\n",
        "# Add wards\n",
        "hospital.add_ward(\"W001\", \"General Ward\", 5)\n",
        "hospital.add_ward(\"W002\", \"ICU\", 2)\n",
        "hospital.add_ward(\"W001\", \"General Ward 2\", 10) # Should show already exists\n",
        "\n",
        "# Add beds (optional, beds are added with ward capacity)\n",
        "hospital.add_bed(\"W001\", \"W001-bed-6\") # Should show at full capacity if capacity was 5\n",
        "hospital.add_bed(\"W003\", \"W003-bed-1\") # Should show ward not found\n",
        "\n",
        "# Admit patients\n",
        "patient1 = hospital.admit_patient(\"P001\", \"Alice Smith\", \"W001\")\n",
        "patient2 = hospital.admit_patient(\"P002\", \"Bob Johnson\", \"W001\")\n",
        "patient3 = hospital.admit_patient(\"P003\", \"Charlie Brown\", \"W001\")\n",
        "patient4 = hospital.admit_patient(\"P004\", \"David Green\", \"W001\")\n",
        "patient5 = hospital.admit_patient(\"P005\", \"Eve Black\", \"W001\")\n",
        "patient6 = hospital.admit_patient(\"P006\", \"Frank White\", \"W001\") # Should show no available beds\n",
        "\n",
        "patient_icu_1 = hospital.admit_patient(\"P007\", \"Grace Blue\", \"W002\")\n",
        "\n",
        "# Find patients\n",
        "found_patient = hospital.find_patient_by_id(\"P003\")\n",
        "if found_patient:\n",
        "    print(f\"Found patient: {found_patient.name}\")\n",
        "else:\n",
        "    print(\"Patient not found.\")\n",
        "\n",
        "not_found_patient = hospital.find_patient_by_id(\"P999\")\n",
        "if not_found_patient:\n",
        "     print(f\"Found patient: {not_found_patient.name}\")\n",
        "else:\n",
        "     print(\"Patient not found.\")\n",
        "\n",
        "# Find available beds\n",
        "available_bed_ward1 = hospital.find_available_bed(\"W001\")\n",
        "if available_bed_ward1:\n",
        "    print(f\"Available bed in W001: {available_bed_ward1.bed_id}\")\n",
        "else:\n",
        "    print(\"No available beds in W001.\")\n",
        "\n",
        "available_bed_ward2 = hospital.find_available_bed(\"W002\")\n",
        "if available_bed_ward2:\n",
        "    print(f\"Available bed in W002: {available_bed_ward2.bed_id}\")\n",
        "else:\n",
        "    print(\"No available beds in W002.\")\n",
        "\n",
        "\n",
        "# Discharge patients\n",
        "hospital.discharge_patient(\"P002\")\n",
        "hospital.discharge_patient(\"P999\") # Should show patient not found\n",
        "\n",
        "# Admit another patient to the ward with a discharged patient\n",
        "patient7 = hospital.admit_patient(\"P008\", \"Hannah Purple\", \"W001\")"
      ],
      "execution_count": null,
      "outputs": []
    }
  ]
}